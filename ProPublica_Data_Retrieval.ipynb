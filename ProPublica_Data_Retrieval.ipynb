{
 "cells": [
  {
   "cell_type": "code",
   "execution_count": 4,
   "metadata": {},
   "outputs": [],
   "source": [
    "import requests\n",
    "import json\n",
    "from collections import defaultdict"
   ]
  },
  {
   "cell_type": "code",
   "execution_count": 15,
   "metadata": {},
   "outputs": [],
   "source": [
    "f = open('propublica-api-key.txt', 'r')\n",
    "text = f.read()\n",
    "api_key = text.strip()\n",
    "headers = {'X-API-Key': api_key}"
   ]
  },
  {
   "cell_type": "code",
   "execution_count": 16,
   "metadata": {},
   "outputs": [],
   "source": [
    "def get_senators():\n",
    "    \"\"\" get senator information \"\"\"\n",
    "    url = 'https://api.propublica.org/congress/v1/115/senate/members.json'\n",
    "    response = requests.get(url, headers=headers).text  # returns str\n",
    "    senators = json.loads(response)['results'][0].get('members')\n",
    "    members = []\n",
    "    for senator in senators:\n",
    "        d = {'id': senator['id'], 'first_name': senator['first_name'], 'last_name': senator['last_name'],\n",
    "             'gender': senator['gender'], 'party': senator['party'], 'twitter_account': senator['twitter_account'],\n",
    "             'state': senator['state']}\n",
    "        members.append(d)\n",
    "    return members"
   ]
  },
  {
   "cell_type": "code",
   "execution_count": 17,
   "metadata": {},
   "outputs": [],
   "source": [
    "def get_recent_bills():\n",
    "    all_bills = []\n",
    "    url = 'https://api.propublica.org/congress/v1/both/votes/recent.json'\n",
    "    response = requests.get(url, headers=headers).text  # returns str\n",
    "    bills = json.loads(response)['results']['votes']  # create json object from str\n",
    "    for vote in bills:\n",
    "        if 'bill_id' in vote['bill']:\n",
    "            d = {'bill_id': vote['bill']['bill_id'], 'chamber': vote['chamber'], 'roll_call': vote['roll_call'],\n",
    "                        'title': vote['bill']['title'], 'date': vote['date'], 'result': vote['result'],\n",
    "                        'd_yes': vote['democratic']['yes'], 'd_no': vote['democratic']['no'],\n",
    "                        'r_yes': vote['republican']['yes'], 'r_no': vote['republican']['no'],\n",
    "                        'i_yes': vote['independent']['yes'], 'i_no': vote['independent']['no']}\n",
    "            all_bills.append(d)\n",
    "        else:\n",
    "            continue\n",
    "    return all_bills"
   ]
  },
  {
   "cell_type": "code",
   "execution_count": 18,
   "metadata": {},
   "outputs": [],
   "source": [
    "def get_roll_call():\n",
    "    vote_tally = []\n",
    "    for vote in all_bills:\n",
    "        roll_call_results = defaultdict(list)\n",
    "        roll_call_id = vote['roll_call']\n",
    "        url = f'https://api.propublica.org/congress/v1/115/senate/sessions/1/votes/{roll_call_id}.json'\n",
    "        response = requests.get(url, headers=headers).text\n",
    "        representatives = json.loads(response)['results']['votes']['vote']['positions']\n",
    "        for rep in representatives:\n",
    "            d = {'member_id': rep['member_id'], 'name': rep['name'], 'party': rep['party'],\n",
    "                     'state': rep['state'], 'vote': rep['vote_position']}\n",
    "            roll_call_results[roll_call_id].append(d)\n",
    "        vote_tally.append(roll_call_results)\n",
    "    return vote_tally"
   ]
  },
  {
   "cell_type": "code",
   "execution_count": 19,
   "metadata": {},
   "outputs": [],
   "source": [
    "all_members = get_senators()\n",
    "all_bills = get_recent_bills()\n",
    "votes = get_roll_call()"
   ]
  },
  {
   "cell_type": "code",
   "execution_count": 21,
   "metadata": {},
   "outputs": [],
   "source": [
    "with open('senators.json', 'w') as outfile:  \n",
    "    json.dump(all_members, outfile)"
   ]
  },
  {
   "cell_type": "code",
   "execution_count": 22,
   "metadata": {},
   "outputs": [],
   "source": [
    "with open('bills.json', 'w') as outfile:  \n",
    "    json.dump(all_bills, outfile)"
   ]
  },
  {
   "cell_type": "code",
   "execution_count": 23,
   "metadata": {},
   "outputs": [],
   "source": [
    "with open('votes.json', 'w') as outfile:  \n",
    "    json.dump(votes, outfile)"
   ]
  }
 ],
 "metadata": {
  "kernelspec": {
   "display_name": "Python 3",
   "language": "python",
   "name": "python3"
  },
  "language_info": {
   "codemirror_mode": {
    "name": "ipython",
    "version": 3
   },
   "file_extension": ".py",
   "mimetype": "text/x-python",
   "name": "python",
   "nbconvert_exporter": "python",
   "pygments_lexer": "ipython3",
   "version": "3.6.7"
  }
 },
 "nbformat": 4,
 "nbformat_minor": 2
}
